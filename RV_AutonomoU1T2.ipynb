{
 "cells": [
  {
   "cell_type": "markdown",
   "id": "1b6516d7",
   "metadata": {},
   "source": [
    "# **Programación II  U1-T2**\n",
    "Actividad Autonomo 2: Clasificación del Data set Iris utilizando Programación Orientada a Objetos (POO) y Python"
   ]
  },
  {
   "cell_type": "markdown",
   "id": "a2eaf1cf",
   "metadata": {},
   "source": [
    "***"
   ]
  },
  {
   "cell_type": "markdown",
   "id": "ff317ef0",
   "metadata": {
    "vscode": {
     "languageId": "plaintext"
    }
   },
   "source": [
    "**Instrucciones:**\n",
    "1. Definir una clase Flor que representa las Caracteristicas principales de una flor de la data set Iris.\n",
    "  \n",
    "     - La Clase debe incluir los atriutos: longitud_sepalo, ancho_sepalo, longitud_petalo, ancho_petalo y especie.\n",
    "    \n",
    "       Hace que todos los atributos sean prevados (Usar doble guion bajo_antes del nombre de cada atributo).\n",
    "  \n",
    "     - Implementar el metodo __init__ para inicializar los atributos.\n",
    "  \n",
    "     - Añadir métodos getters y setters para cada uno de los atributos privados para permitir el acceso y modificación de manera controlada.\n",
    "  \n",
    "     - Definir un método __str__ que permita mostrar los detalles de la flor en un formato legible.\n",
    "  \n",
    "     - Crea al menos tres objetos Flor utilizando datos de dataset Iris. Utilizar los metodos getters y setters para modificar algunos de los atributos y mostrar los cambios con el método __str__.\n",
    "     "
   ]
  },
  {
   "cell_type": "code",
   "execution_count": null,
   "id": "0ed860ab",
   "metadata": {},
   "outputs": [],
   "source": [
    "from math import sqrt, pow\n",
    "\n",
    "class Flor:\n",
    "    def __init__(self, longitud_sepalo, ancho_sepalo, longitud_petalo, ancho_petalo, especie):\n",
    "        self.__longitud_sepalo = longitud_sepalo\n",
    "        self.__ancho_sepalo = ancho_sepalo\n",
    "        self.__longitud_petalo = longitud_petalo\n",
    "        self.__ancho_petalo = longitud_petalo\n",
    "        self.__especie = especie\n",
    "\n",
    "#getters\n",
    "def get_longitud_sepalo(self):\n",
    "    return self.__longitud_sepalo\n",
    "\n",
    "def get_ancho_sepalo(self):\n",
    "    return self.__ancho_sepalo\n",
    "\n",
    "def get_longitud_petalo(self):\n",
    "    return self.__longitud_petalo\n",
    "\n",
    "def get_ancho_petalo(self):\n",
    "    return self.__ancho_petalo\n",
    "\n",
    "def get_especie(self):\n",
    "    return self.__especie\n",
    "\n",
    "#setters\n",
    "def set_longitud_sepalo(self, valor):\n",
    "    self.__longitud_sepalo = valor\n",
    "    \n",
    "def set_ancho_sepalo(self, valor):\n",
    "    self.__ancho_sepalo = valor\n",
    "    \n",
    "def set_longitud_petalo(self, valor):\n",
    "    self.__longitud_petalo = valor\n",
    "    \n",
    "def set_ancho_petalo(self, valor):\n",
    "    self.__ancho_petalo = valor\n",
    "\n",
    "def set_especie(self, valor):\n",
    "    self.__especie = valor\n",
    "\n",
    "#Metodo str\n",
    "def __str__(self):\n",
    "    return (f\"Flor({self.__especie}):\"\n",
    "            f\"Sepalo: {self.__longitud_sepalo} x {self.__ancho_sepalo},\"\n",
    "            f\"Petalo: {self.__longitud_petalo} x {self.__ancho_petalo}\")\n",
    "\n",
    "\n"
   ]
  },
  {
   "cell_type": "markdown",
   "id": "d87c1df6",
   "metadata": {},
   "source": [
    "**Crear 3 Objetos y modificar atributos:**"
   ]
  },
  {
   "cell_type": "code",
   "execution_count": 16,
   "id": "0f09bba3",
   "metadata": {},
   "outputs": [
    {
     "name": "stdout",
     "output_type": "stream",
     "text": [
      "Antes de Modificar: \n",
      "<__main__.Flor object at 0x0000029272968E00>\n",
      "<__main__.Flor object at 0x0000029272969EB0>\n",
      "<__main__.Flor object at 0x000002927297DF10>\n"
     ]
    },
    {
     "ename": "AttributeError",
     "evalue": "'Flor' object has no attribute 'set_longitud_sepalo'",
     "output_type": "error",
     "traceback": [
      "\u001b[31m---------------------------------------------------------------------------\u001b[39m",
      "\u001b[31mAttributeError\u001b[39m                            Traceback (most recent call last)",
      "\u001b[36mCell\u001b[39m\u001b[36m \u001b[39m\u001b[32mIn[16]\u001b[39m\u001b[32m, line 13\u001b[39m\n\u001b[32m     10\u001b[39m \u001b[38;5;28mprint\u001b[39m(flor3)\n\u001b[32m     12\u001b[39m \u001b[38;5;66;03m#Modificar atributos usando los setters\u001b[39;00m\n\u001b[32m---> \u001b[39m\u001b[32m13\u001b[39m \u001b[43mflor1\u001b[49m\u001b[43m.\u001b[49m\u001b[43mset_longitud_sepalo\u001b[49m(\u001b[32m5.5\u001b[39m)\n\u001b[32m     14\u001b[39m flor1.set_ancho_sepalo(\u001b[32m3.6\u001b[39m)\n\u001b[32m     15\u001b[39m flor1.set_especie(\u001b[33m\"\u001b[39m\u001b[33msetosa-modificada\u001b[39m\u001b[33m\"\u001b[39m)\n",
      "\u001b[31mAttributeError\u001b[39m: 'Flor' object has no attribute 'set_longitud_sepalo'"
     ]
    }
   ],
   "source": [
    "#Crear instancias de Flor usando datos del dataset Iris\n",
    "flor1 = Flor(5.1, 3.5, 1.4, 0.2, \"setosa\")\n",
    "flor2 = Flor(7.0, 3.2, 4.7, 1.4, \"versicolor\")\n",
    "flor3 = Flor(6.3, 3.3, 6.0, 2.5, \"virginica\")\n",
    "\n",
    "#Mostrar las Flores originales\n",
    "print(\"Antes de Modificar: \")\n",
    "print(flor1)\n",
    "print(flor2)\n",
    "print(flor3)\n",
    "\n",
    "#Modificar atributos usando los setters\n",
    "flor1.set_longitud_sepalo(5.5)\n",
    "flor1.set_ancho_sepalo(3.6)\n",
    "flor1.set_especie(\"setosa-modificada\")\n",
    "\n",
    "flor2.set_longitud_petalo(4.5)\n",
    "flor2.set_ancho_petalo(1.5)\n",
    "\n",
    "flor3.set_longitud_sepalo(6.4)\n",
    "flor3.set_ancho_sepalo(3.4)\n",
    "\n",
    "#Mostrar las flores despues de la modificación\n",
    "print(\"\\nDespués de Modificar: \")\n",
    "print(flor1)\n",
    "print(flor2)\n",
    "print(flor3)\n"
   ]
  },
  {
   "cell_type": "markdown",
   "id": "cf12172a",
   "metadata": {},
   "source": [
    "\n",
    "2. Implementar una clase abstracta Clasificador con un método abstracto clasificar()."
   ]
  },
  {
   "cell_type": "markdown",
   "id": "3bedc480",
   "metadata": {},
   "source": [
    "Clase abstracta **Clasificador**"
   ]
  },
  {
   "cell_type": "code",
   "execution_count": null,
   "id": "4741de8f",
   "metadata": {},
   "outputs": [],
   "source": [
    "from abc import Abc, abstractmethod\n",
    "class Clasificador(ABC):\n",
    "    @abstractmethod\n",
    "    def clasificar(self, flor: Flor):\n",
    "        pass"
   ]
  },
  {
   "cell_type": "markdown",
   "id": "461b7f4d",
   "metadata": {},
   "source": [
    "3. Crear una subclase ClasificadorIris que herede de Clasificador y que implemente el método clasificar() para clasificar flores según la Longitud del pétalo."
   ]
  },
  {
   "cell_type": "markdown",
   "id": "7333cc3d",
   "metadata": {},
   "source": [
    "Subclase **ClasificadorIris**"
   ]
  },
  {
   "cell_type": "code",
   "execution_count": null,
   "id": "8503c40c",
   "metadata": {},
   "outputs": [],
   "source": [
    "class ClasificadorIris(Clasificador):\n",
    "    def clasificar(self, flor: Flor):\n",
    "        if flor.get_longitud_petalo()<2.0:\n",
    "            return \"setosa\"\n",
    "        elif flor.get_longitud_petalo()<5.0:\n",
    "            return \"versicolor\"\n",
    "        else:\n",
    "            return \"virginica\""
   ]
  },
  {
   "cell_type": "markdown",
   "id": "ade37f02",
   "metadata": {},
   "source": [
    "4. Añadir un metodo calcular_distancia() a la clase Flor para calcular la distancia euclidiana entre dos instancias de Flor.\n"
   ]
  },
  {
   "cell_type": "markdown",
   "id": "44bc4645",
   "metadata": {},
   "source": [
    "Método **calcular_distancia** (Euclidiana)"
   ]
  },
  {
   "cell_type": "code",
   "execution_count": null,
   "id": "5df11d13",
   "metadata": {},
   "outputs": [],
   "source": [
    "def calcular_distancia(self, otra_flor):\n",
    "    return sqrt(\n",
    "        (self.__longitud_sepalo - otra_flor.get_longitud_sepalo())**2 +\n",
    "        (self.__ancho_sepalo - otra_flor.get_ancho_sepalo())**2 +\n",
    "        (self.__longitud_petalo - otra_flor.get_Longitud_petalo())**2 + \n",
    "        (self._ancho_petalo - otra_flor.get_ancho_petalo())**2\n",
    "    )"
   ]
  },
  {
   "cell_type": "markdown",
   "id": "292d5f1b",
   "metadata": {},
   "source": [
    "5. Utilizar este método para comparar dos flores y mostrar cuál de ellas está más cerca de una flor de referencia.\n"
   ]
  },
  {
   "cell_type": "code",
   "execution_count": null,
   "id": "c73c97f0",
   "metadata": {},
   "outputs": [],
   "source": [
    "distancia_1_2 = flor1.calcular_distancia(flor2)\n",
    "distancia_1_3 = flor1.calcular_distancia(flor3)\n",
    "\n",
    "if distancia_1_2 < distancia_1_3:\n",
    "    print(\"La Flor 2 esta mas cerca de la Flor1\")\n",
    "else:\n",
    "    print(\"La Flor 3 esta mas cerca de la Flor1\")"
   ]
  },
  {
   "cell_type": "markdown",
   "id": "f6192ea3",
   "metadata": {},
   "source": [
    "6. Sobrecarga el operador + para combinar dos flores y obtener una nueva flor con los atributos promedio.\n"
   ]
  },
  {
   "cell_type": "markdown",
   "id": "bc1229d1",
   "metadata": {},
   "source": [
    "Sobrecarga del operador **\"+\"**"
   ]
  },
  {
   "cell_type": "code",
   "execution_count": null,
   "id": "c1ab6faf",
   "metadata": {},
   "outputs": [],
   "source": [
    "def __add__(self, otra_flor):\n",
    "    return Flor(\n",
    "        (self.__longitud_sepalo + otra_flor.get_longitud_sepalo())/2,\n",
    "        (self.__ancho_sepalo + otra_flor.get_ancho_sepalo())/2,\n",
    "        (self.__longitud_petalo + otra_flor.get_longitud_petalo())/2,\n",
    "        (self.__ancho_petalo + otra_flor.get_ancho_petalo())/2,\n",
    "        f\"{self.__especie} - {otra_flor.get_especie()}\"\n",
    "    )"
   ]
  },
  {
   "cell_type": "code",
   "execution_count": null,
   "id": "3a3d1d42",
   "metadata": {},
   "outputs": [],
   "source": [
    "flor_promedio = flor1 + flor2\n",
    "print(flor_promedio)"
   ]
  },
  {
   "cell_type": "markdown",
   "id": "f0e266e2",
   "metadata": {},
   "source": [
    "7. Crea al menos dos objetivos Flor y utilizar la sobrecarga del operador + para obtener una nueva flor promedio."
   ]
  },
  {
   "cell_type": "markdown",
   "id": "9ae7cbb1",
   "metadata": {},
   "source": [
    "Método mágico **\"_ _ mul _ _\"**"
   ]
  },
  {
   "cell_type": "code",
   "execution_count": null,
   "id": "9db000fa",
   "metadata": {},
   "outputs": [],
   "source": [
    "def __mul__(self, escalar):\n",
    "    return Flor(\n",
    "        self.__logintud_sepalo * escalar,\n",
    "        self.__ancho_sepalo * escalar,\n",
    "        self.__longitud_petalo * escalar,\n",
    "        self.__ancho_petalo * escalar,\n",
    "        self.__especie + \"_escalada\"\n",
    "    )"
   ]
  },
  {
   "cell_type": "code",
   "execution_count": null,
   "id": "15e504b6",
   "metadata": {},
   "outputs": [],
   "source": [
    "flor_escalada = flor1 * 1.10\n",
    "print(flor_escalada)"
   ]
  },
  {
   "cell_type": "markdown",
   "id": "4ed0867d",
   "metadata": {},
   "source": [
    "8. Añadir un método mágico __mul__ a la clase Flor que permita multiplicar los valores numéricos de una flor por un escalar (número). Implementar un ejercicioque muestre como utilizar este método mágico para incrementar en un cierto porcentaje el tamaño de los sepalos y los pétalos de una flor."
   ]
  },
  {
   "cell_type": "markdown",
   "id": "5d7a4345",
   "metadata": {},
   "source": [
    "Distancia adicionales (Manhattan y Minkowshi)"
   ]
  },
  {
   "cell_type": "code",
   "execution_count": null,
   "id": "be62bebb",
   "metadata": {},
   "outputs": [],
   "source": [
    "def distancia_manhattan(self, otra_flor):\n",
    "    return (\n",
    "        abs(self.__longitud_sepalo - otra_flor.get_longitud_sepalo()) +\n",
    "            abs(self.__ancho_sepalo - otra_flor.get_ancho_sepalo()) +\n",
    "            abs(self.__longitud_petalo - otra_flor.get_longitud_petalo()) +\n",
    "            abs(self.__ancho_petalo - otra_flor.get_ancho_petalo())\n",
    "        )\n",
    "    \n",
    "def distancia_minkowski(self, otra_flor, p):\n",
    "    return (\n",
    "        abs(self.__longitud_sepalo - otra_flor.get_longitud_sepalo())**p +\n",
    "        abs(self.__ancho_sepalo - otra_flor.get_ancho_sepalo())**p +\n",
    "        abs(self.__longitud_petalo - otra_flor.get_longitud_petalo())**p +\n",
    "        abs(self.__ancho_petalo - otra_flor.get_ancho_petalo())**p,\n",
    "    )**(1/p)\n",
    "    "
   ]
  },
  {
   "cell_type": "code",
   "execution_count": null,
   "id": "dfd8b434",
   "metadata": {},
   "outputs": [],
   "source": [
    "print(\"Distancia Manhattan: \", flor1.distancia_manhattan(flor2))\n",
    "print(\"Distancia Miskowski: \", flor1.distancia_minkowski(flor2, 3))"
   ]
  }
 ],
 "metadata": {
  "kernelspec": {
   "display_name": "Program_2",
   "language": "python",
   "name": "python3"
  },
  "language_info": {
   "codemirror_mode": {
    "name": "ipython",
    "version": 3
   },
   "file_extension": ".py",
   "mimetype": "text/x-python",
   "name": "python",
   "nbconvert_exporter": "python",
   "pygments_lexer": "ipython3",
   "version": "3.12.10"
  }
 },
 "nbformat": 4,
 "nbformat_minor": 5
}
