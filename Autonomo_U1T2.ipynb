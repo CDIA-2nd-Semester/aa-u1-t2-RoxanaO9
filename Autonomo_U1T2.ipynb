{
 "cells": [
  {
   "cell_type": "markdown",
   "id": "09d53a4c",
   "metadata": {},
   "source": [
    "- Declara las clasese abstractas y metodos abstractos\n",
    "- Definicion de la clase vehiculos, que es una clase abstracta y tiene un metodo abstacto\n",
    "- Metodo para asignar la estrategia de conduccion y otro para conducir \n"
   ]
  },
  {
   "cell_type": "code",
   "execution_count": null,
   "id": "8fa2aca4",
   "metadata": {},
   "outputs": [],
   "source": [
    "class Vehiculo(ABC):\n",
    "    def __init__(self, marca, modelo, anio):\n",
    "        self.marca = marca\n",
    "        self.modelo =modelo\n",
    "        self.anio = anio\n",
    "\n",
    "#Definir la clase conduccion\n",
    "def set_conduccion(self, conduccion):\n",
    "    self.conduccion =conduccion\n",
    "    \n",
    "def conducir(self):\n",
    "    if self.conduccion:\n",
    "        self.conduccion.conducir(self)\n",
    "    else:\n",
    "        print(\"\")"
   ]
  },
  {
   "cell_type": "code",
   "execution_count": null,
   "id": "3eee388c",
   "metadata": {},
   "outputs": [],
   "source": [
    "from abc import ABC, abstractmethod\n",
    "\n",
    "#Estrategia de conduccion\n",
    "class EstrategiaConduccion(ABC):\n",
    "    @abstractmethod\n",
    "    def conducir(self):\n",
    "        pass\n",
    "    \n",
    "class ConducirEconomica(EstrategiaConduccion):\n",
    "    def conducir(self):\n",
    "        return \"Conducción económica activada.\"\n",
    "\n",
    "class ConduccionDeportiva(EstrategiaConduccion):\n",
    "    def conducir(self):\n",
    "        return \"Conducción deportiva activada.\"\n",
    "\n",
    "class ConduccionOffRoad(EstrategiaConduccion):\n",
    "    def conducir(self):\n",
    "        return \"Conducción off-road activada.\"\n",
    "\n",
    "class ConduccionEmergencia(EstrategiaConduccion):\n",
    "    def  conducir(self):\n",
    "        return \"Condicción de emergencia activada: superando limites.\"\n",
    "    \n",
    "#Clase abstracta Vehiculo\n",
    "class Vehiculo(ABC):\n",
    "    def __init__ (self, marca, modelo, velocidad_maxima, capacidad_carga):\n",
    "        self.marca = marca\n",
    "        self.modelo = modelo\n",
    "        self.velocidad_maxima = velocidad_maxima\n",
    "        self.capacidad_carga = capacidad_carga\n",
    "        self.estrategia = None\n",
    "        \n",
    "def set_estrategia(self, estrategia: EstrategiaConduccion):\n",
    "    self.estrategia = estrategia\n",
    "    \n",
    "def ejecutar_estrategia(self):\n",
    "    if self.estrategia:\n",
    "        return self.estrategia.conducir()\n",
    "    else:\n",
    "        return \"No se ha definido una estrategia de condicción.\"\n",
    "    \n",
    "@abstractmethod\n",
    "def acelerar(self, velocidad):\n",
    "    pass\n",
    "\n",
    "@abstractmethod\n",
    "def frenar(self):\n",
    "    pass\n",
    "\n",
    "def informar_estado(self):\n",
    "    return f\"Modelo: {self.modelo}, Velocidad máxima: {self.velocidad_maxima} KM/h\"    \n",
    "\n",
    "def __eq__(self, other):\n",
    "    return isinstace(other, Vehiculo) and self.marca == other.marca and self.modelo == other.modelo"
   ]
  }
 ],
 "metadata": {
  "kernelspec": {
   "display_name": "Program_2",
   "language": "python",
   "name": "python3"
  },
  "language_info": {
   "name": "python",
   "version": "3.12.10"
  }
 },
 "nbformat": 4,
 "nbformat_minor": 5
}
